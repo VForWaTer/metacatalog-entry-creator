{
 "cells": [
  {
   "cell_type": "markdown",
   "id": "83e4530d",
   "metadata": {},
   "source": [
    "# BASE_DATA.json updater\n",
    "\n",
    "As the streamlit entry creator does not have direct database access, the lookup values have to be statically updated from time to time. Download this repo onto the database machine and run the script. Then, the updated BASE_DATA.json can be pushed to the repo and will update the streamlit application"
   ]
  },
  {
   "cell_type": "code",
   "execution_count": 3,
   "id": "fcbac4d6",
   "metadata": {},
   "outputs": [],
   "source": [
    "from metacatalog import api\n",
    "import json\n",
    "import os\n",
    "\n",
    "session = api.connect_database()"
   ]
  },
  {
   "cell_type": "markdown",
   "id": "f599a6be",
   "metadata": {},
   "source": [
    "## Load the current base data"
   ]
  },
  {
   "cell_type": "code",
   "execution_count": 4,
   "id": "b53a423c",
   "metadata": {},
   "outputs": [
    {
     "data": {
      "text/plain": [
       "{}"
      ]
     },
     "execution_count": 4,
     "metadata": {},
     "output_type": "execute_result"
    }
   ],
   "source": [
    "if os.path.exists('BASE_DATA.json'):\n",
    "    with open('BASE_DATA.json', 'r') as f:\n",
    "        base_data = json.load(f)\n",
    "else:\n",
    "    base_data = {}\n",
    "base_data"
   ]
  },
  {
   "cell_type": "code",
   "execution_count": 5,
   "id": "5f725ddd",
   "metadata": {},
   "outputs": [],
   "source": [
    "# LOAD all current licenses\n",
    "base_data['license'] = [{'id': lic.id, 'label': lic.title} for lic in api.find_license(session)]\n",
    "\n",
    "# variables\n",
    "base_data['variable'] = [{'id': v.id, 'label': f'{v.name} [{v.symbol}]'} for v in api.find_variable(session)]\n",
    "\n",
    "# units\n",
    "base_data['unit'] = [{'id': u.id, 'label': f'{u.name} [{u.symbol}]'} for u in api.find_unit(session)]\n",
    "\n",
    "# authors\n",
    "base_data['author'] = [{'id': p.id, 'label': f'{p.first_name} {p.last_name}'} for p in api.find_person(session)]"
   ]
  },
  {
   "cell_type": "code",
   "execution_count": 6,
   "id": "f3a640ae",
   "metadata": {},
   "outputs": [],
   "source": [
    "# run only if needed\n",
    "keywords = {k.uuid: k.value for k in api.find_keyword(session)}\n",
    "base_data['keywords'] = keywords"
   ]
  },
  {
   "cell_type": "code",
   "execution_count": 8,
   "id": "0eb0399f",
   "metadata": {},
   "outputs": [],
   "source": [
    "with open('BASE_DATA.json', 'w') as f:\n",
    "    json.dump(base_data, f, indent=4)"
   ]
  }
 ],
 "metadata": {
  "kernelspec": {
   "display_name": "Python 3",
   "language": "python",
   "name": "python3"
  },
  "language_info": {
   "codemirror_mode": {
    "name": "ipython",
    "version": 3
   },
   "file_extension": ".py",
   "mimetype": "text/x-python",
   "name": "python",
   "nbconvert_exporter": "python",
   "pygments_lexer": "ipython3",
   "version": "3.7.4"
  }
 },
 "nbformat": 4,
 "nbformat_minor": 5
}

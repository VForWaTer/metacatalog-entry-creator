{
 "cells": [
  {
   "cell_type": "markdown",
   "id": "54fa1b40",
   "metadata": {},
   "source": [
    "# BASE_DATA.json updater\n",
    "\n",
    "As the streamlit entry creator does not have direct database access, the lookup values have to be statically updated from time to time. Download this repo onto the database machine and run the script. Then, the updated BASE_DATA.json can be pushed to the repo and will update the streamlit application"
   ]
  },
  {
   "cell_type": "code",
   "execution_count": 5,
   "id": "f67122ed",
   "metadata": {},
   "outputs": [],
   "source": [
    "from metacatalog import api\n",
    "import json\n",
    "\n",
    "session = api.connect_database()"
   ]
  },
  {
   "cell_type": "markdown",
   "id": "c7aa3482",
   "metadata": {},
   "source": [
    "## Load the current base data"
   ]
  },
  {
   "cell_type": "code",
   "execution_count": 3,
   "id": "73d48546",
   "metadata": {},
   "outputs": [
    {
     "data": {
      "text/plain": [
       "{'author': [{'label': 'Alfred E. Neumann', 'id': 42}],\n",
       " 'variable': [{'label': 'awesomeness [a]', 'id': 0},\n",
       "  {'label': 'blabla [b]', 'id': 1}],\n",
       " 'unit': [{'label': 'meter [m]', 'id': 13},\n",
       "  {'label': 'seconds [s]', 'id': 14}],\n",
       " 'license': [{'label': 'CC-BY-SA', 'id': 0}]}"
      ]
     },
     "execution_count": 3,
     "metadata": {},
     "output_type": "execute_result"
    }
   ],
   "source": [
    "with open('BASE_DATA.json', 'r') as f:\n",
    "    base_data = json.load(f)\n",
    "\n",
    "base_data"
   ]
  },
  {
   "cell_type": "code",
   "execution_count": 17,
   "id": "7146654a",
   "metadata": {},
   "outputs": [
    {
     "data": {
      "text/plain": [
       "{'id': 10008,\n",
       " 'name': 'Weight',\n",
       " 'symbol': 'm',\n",
       " 'unit': {'id': 3, 'name': 'kilogram', 'symbol': 'kg'},\n",
       " 'column_names': ['weight']}"
      ]
     },
     "execution_count": 17,
     "metadata": {},
     "output_type": "execute_result"
    }
   ],
   "source": [
    "api.find_variable(session)[0].to_dict()"
   ]
  },
  {
   "cell_type": "code",
   "execution_count": 20,
   "id": "a7787718",
   "metadata": {},
   "outputs": [],
   "source": [
    "# LOAD all current licenses\n",
    "base_data['license'] = [{'id': lic.id, 'label': lic.title} for lic in api.find_license(session)]\n",
    "\n",
    "# variables\n",
    "base_data['variable'] = [{'id': v.id, 'label': f'{v.name} [{v.symbol}]'} for v in api.find_variable(session)]\n",
    "\n",
    "# units\n",
    "base_data['units'] = [{'id': u.id, 'label': f'{u.name} [{u.symbol}]'} for u in api.find_unit(session)]\n",
    "\n",
    "# authors\n",
    "base_data['author'] = [{'id': p.id, 'label': f'{p.first_name} {p.last_name}'} for p in api.find_person(session)]"
   ]
  },
  {
   "cell_type": "code",
   "execution_count": 27,
   "id": "252379c7",
   "metadata": {},
   "outputs": [],
   "source": [
    "# run only if needed\n",
    "keywords = {k.uuid: k.value for k in api.find_keyword(session)}\n",
    "base_data['keywords'] = keywords"
   ]
  },
  {
   "cell_type": "code",
   "execution_count": 28,
   "id": "62576282",
   "metadata": {},
   "outputs": [],
   "source": [
    "with open('BASE_DATA.json', 'w') as f:\n",
    "    json.dump(base_data, f, indent=4)"
   ]
  }
 ],
 "metadata": {
  "kernelspec": {
   "display_name": "Python 3",
   "language": "python",
   "name": "python3"
  },
  "language_info": {
   "codemirror_mode": {
    "name": "ipython",
    "version": 3
   },
   "file_extension": ".py",
   "mimetype": "text/x-python",
   "name": "python",
   "nbconvert_exporter": "python",
   "pygments_lexer": "ipython3",
   "version": "3.8.5"
  }
 },
 "nbformat": 4,
 "nbformat_minor": 5
}
